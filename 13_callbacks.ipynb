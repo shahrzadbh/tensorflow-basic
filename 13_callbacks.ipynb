{
  "nbformat": 4,
  "nbformat_minor": 0,
  "metadata": {
    "colab": {
      "provenance": [],
      "gpuType": "T4"
    },
    "kernelspec": {
      "name": "python3",
      "display_name": "Python 3"
    },
    "language_info": {
      "name": "python"
    },
    "accelerator": "GPU",
    "widgets": {
      "application/vnd.jupyter.widget-state+json": {
        "c64bf24f18c34186bc8397cb14b2b910": {
          "model_module": "@jupyter-widgets/controls",
          "model_name": "HBoxModel",
          "model_module_version": "1.5.0",
          "state": {
            "_dom_classes": [],
            "_model_module": "@jupyter-widgets/controls",
            "_model_module_version": "1.5.0",
            "_model_name": "HBoxModel",
            "_view_count": null,
            "_view_module": "@jupyter-widgets/controls",
            "_view_module_version": "1.5.0",
            "_view_name": "HBoxView",
            "box_style": "",
            "children": [
              "IPY_MODEL_181a5a9eb1a04bc79dbd3dcddbf294b7",
              "IPY_MODEL_39ce04783d2449a3a51567ab713c24ce",
              "IPY_MODEL_3a6a71f617a94888a34a92127b610609"
            ],
            "layout": "IPY_MODEL_093f39de73764abba4c74c61cc7ca5b5"
          }
        },
        "181a5a9eb1a04bc79dbd3dcddbf294b7": {
          "model_module": "@jupyter-widgets/controls",
          "model_name": "HTMLModel",
          "model_module_version": "1.5.0",
          "state": {
            "_dom_classes": [],
            "_model_module": "@jupyter-widgets/controls",
            "_model_module_version": "1.5.0",
            "_model_name": "HTMLModel",
            "_view_count": null,
            "_view_module": "@jupyter-widgets/controls",
            "_view_module_version": "1.5.0",
            "_view_name": "HTMLView",
            "description": "",
            "description_tooltip": null,
            "layout": "IPY_MODEL_a2071212c1d44fad8bb5ea10ca4b9470",
            "placeholder": "​",
            "style": "IPY_MODEL_60ae3de377fe4079ae02976e0596bf61",
            "value": "Dl Completed...: 100%"
          }
        },
        "39ce04783d2449a3a51567ab713c24ce": {
          "model_module": "@jupyter-widgets/controls",
          "model_name": "FloatProgressModel",
          "model_module_version": "1.5.0",
          "state": {
            "_dom_classes": [],
            "_model_module": "@jupyter-widgets/controls",
            "_model_module_version": "1.5.0",
            "_model_name": "FloatProgressModel",
            "_view_count": null,
            "_view_module": "@jupyter-widgets/controls",
            "_view_module_version": "1.5.0",
            "_view_name": "ProgressView",
            "bar_style": "success",
            "description": "",
            "description_tooltip": null,
            "layout": "IPY_MODEL_2675ed1d5a4b4423ab29a4a36b065859",
            "max": 5,
            "min": 0,
            "orientation": "horizontal",
            "style": "IPY_MODEL_787d8a089f2d43fbb373772b7d79aeb8",
            "value": 5
          }
        },
        "3a6a71f617a94888a34a92127b610609": {
          "model_module": "@jupyter-widgets/controls",
          "model_name": "HTMLModel",
          "model_module_version": "1.5.0",
          "state": {
            "_dom_classes": [],
            "_model_module": "@jupyter-widgets/controls",
            "_model_module_version": "1.5.0",
            "_model_name": "HTMLModel",
            "_view_count": null,
            "_view_module": "@jupyter-widgets/controls",
            "_view_module_version": "1.5.0",
            "_view_name": "HTMLView",
            "description": "",
            "description_tooltip": null,
            "layout": "IPY_MODEL_3598b7ca37df42e385d8accf6dd3757b",
            "placeholder": "​",
            "style": "IPY_MODEL_591cb7234bc1463f910e53b9e318fbc2",
            "value": " 5/5 [00:00&lt;00:00, 10.86 file/s]"
          }
        },
        "093f39de73764abba4c74c61cc7ca5b5": {
          "model_module": "@jupyter-widgets/base",
          "model_name": "LayoutModel",
          "model_module_version": "1.2.0",
          "state": {
            "_model_module": "@jupyter-widgets/base",
            "_model_module_version": "1.2.0",
            "_model_name": "LayoutModel",
            "_view_count": null,
            "_view_module": "@jupyter-widgets/base",
            "_view_module_version": "1.2.0",
            "_view_name": "LayoutView",
            "align_content": null,
            "align_items": null,
            "align_self": null,
            "border": null,
            "bottom": null,
            "display": null,
            "flex": null,
            "flex_flow": null,
            "grid_area": null,
            "grid_auto_columns": null,
            "grid_auto_flow": null,
            "grid_auto_rows": null,
            "grid_column": null,
            "grid_gap": null,
            "grid_row": null,
            "grid_template_areas": null,
            "grid_template_columns": null,
            "grid_template_rows": null,
            "height": null,
            "justify_content": null,
            "justify_items": null,
            "left": null,
            "margin": null,
            "max_height": null,
            "max_width": null,
            "min_height": null,
            "min_width": null,
            "object_fit": null,
            "object_position": null,
            "order": null,
            "overflow": null,
            "overflow_x": null,
            "overflow_y": null,
            "padding": null,
            "right": null,
            "top": null,
            "visibility": null,
            "width": null
          }
        },
        "a2071212c1d44fad8bb5ea10ca4b9470": {
          "model_module": "@jupyter-widgets/base",
          "model_name": "LayoutModel",
          "model_module_version": "1.2.0",
          "state": {
            "_model_module": "@jupyter-widgets/base",
            "_model_module_version": "1.2.0",
            "_model_name": "LayoutModel",
            "_view_count": null,
            "_view_module": "@jupyter-widgets/base",
            "_view_module_version": "1.2.0",
            "_view_name": "LayoutView",
            "align_content": null,
            "align_items": null,
            "align_self": null,
            "border": null,
            "bottom": null,
            "display": null,
            "flex": null,
            "flex_flow": null,
            "grid_area": null,
            "grid_auto_columns": null,
            "grid_auto_flow": null,
            "grid_auto_rows": null,
            "grid_column": null,
            "grid_gap": null,
            "grid_row": null,
            "grid_template_areas": null,
            "grid_template_columns": null,
            "grid_template_rows": null,
            "height": null,
            "justify_content": null,
            "justify_items": null,
            "left": null,
            "margin": null,
            "max_height": null,
            "max_width": null,
            "min_height": null,
            "min_width": null,
            "object_fit": null,
            "object_position": null,
            "order": null,
            "overflow": null,
            "overflow_x": null,
            "overflow_y": null,
            "padding": null,
            "right": null,
            "top": null,
            "visibility": null,
            "width": null
          }
        },
        "60ae3de377fe4079ae02976e0596bf61": {
          "model_module": "@jupyter-widgets/controls",
          "model_name": "DescriptionStyleModel",
          "model_module_version": "1.5.0",
          "state": {
            "_model_module": "@jupyter-widgets/controls",
            "_model_module_version": "1.5.0",
            "_model_name": "DescriptionStyleModel",
            "_view_count": null,
            "_view_module": "@jupyter-widgets/base",
            "_view_module_version": "1.2.0",
            "_view_name": "StyleView",
            "description_width": ""
          }
        },
        "2675ed1d5a4b4423ab29a4a36b065859": {
          "model_module": "@jupyter-widgets/base",
          "model_name": "LayoutModel",
          "model_module_version": "1.2.0",
          "state": {
            "_model_module": "@jupyter-widgets/base",
            "_model_module_version": "1.2.0",
            "_model_name": "LayoutModel",
            "_view_count": null,
            "_view_module": "@jupyter-widgets/base",
            "_view_module_version": "1.2.0",
            "_view_name": "LayoutView",
            "align_content": null,
            "align_items": null,
            "align_self": null,
            "border": null,
            "bottom": null,
            "display": null,
            "flex": null,
            "flex_flow": null,
            "grid_area": null,
            "grid_auto_columns": null,
            "grid_auto_flow": null,
            "grid_auto_rows": null,
            "grid_column": null,
            "grid_gap": null,
            "grid_row": null,
            "grid_template_areas": null,
            "grid_template_columns": null,
            "grid_template_rows": null,
            "height": null,
            "justify_content": null,
            "justify_items": null,
            "left": null,
            "margin": null,
            "max_height": null,
            "max_width": null,
            "min_height": null,
            "min_width": null,
            "object_fit": null,
            "object_position": null,
            "order": null,
            "overflow": null,
            "overflow_x": null,
            "overflow_y": null,
            "padding": null,
            "right": null,
            "top": null,
            "visibility": null,
            "width": null
          }
        },
        "787d8a089f2d43fbb373772b7d79aeb8": {
          "model_module": "@jupyter-widgets/controls",
          "model_name": "ProgressStyleModel",
          "model_module_version": "1.5.0",
          "state": {
            "_model_module": "@jupyter-widgets/controls",
            "_model_module_version": "1.5.0",
            "_model_name": "ProgressStyleModel",
            "_view_count": null,
            "_view_module": "@jupyter-widgets/base",
            "_view_module_version": "1.2.0",
            "_view_name": "StyleView",
            "bar_color": null,
            "description_width": ""
          }
        },
        "3598b7ca37df42e385d8accf6dd3757b": {
          "model_module": "@jupyter-widgets/base",
          "model_name": "LayoutModel",
          "model_module_version": "1.2.0",
          "state": {
            "_model_module": "@jupyter-widgets/base",
            "_model_module_version": "1.2.0",
            "_model_name": "LayoutModel",
            "_view_count": null,
            "_view_module": "@jupyter-widgets/base",
            "_view_module_version": "1.2.0",
            "_view_name": "LayoutView",
            "align_content": null,
            "align_items": null,
            "align_self": null,
            "border": null,
            "bottom": null,
            "display": null,
            "flex": null,
            "flex_flow": null,
            "grid_area": null,
            "grid_auto_columns": null,
            "grid_auto_flow": null,
            "grid_auto_rows": null,
            "grid_column": null,
            "grid_gap": null,
            "grid_row": null,
            "grid_template_areas": null,
            "grid_template_columns": null,
            "grid_template_rows": null,
            "height": null,
            "justify_content": null,
            "justify_items": null,
            "left": null,
            "margin": null,
            "max_height": null,
            "max_width": null,
            "min_height": null,
            "min_width": null,
            "object_fit": null,
            "object_position": null,
            "order": null,
            "overflow": null,
            "overflow_x": null,
            "overflow_y": null,
            "padding": null,
            "right": null,
            "top": null,
            "visibility": null,
            "width": null
          }
        },
        "591cb7234bc1463f910e53b9e318fbc2": {
          "model_module": "@jupyter-widgets/controls",
          "model_name": "DescriptionStyleModel",
          "model_module_version": "1.5.0",
          "state": {
            "_model_module": "@jupyter-widgets/controls",
            "_model_module_version": "1.5.0",
            "_model_name": "DescriptionStyleModel",
            "_view_count": null,
            "_view_module": "@jupyter-widgets/base",
            "_view_module_version": "1.2.0",
            "_view_name": "StyleView",
            "description_width": ""
          }
        }
      }
    }
  },
  "cells": [
    {
      "cell_type": "code",
      "execution_count": 1,
      "metadata": {
        "id": "cXfqc-DLXfor"
      },
      "outputs": [],
      "source": [
        "import os\n",
        "import matplotlib.pyplot\n",
        "os.environ[\"TF_CPP_MIN_LOG_LEVEL\"] = \"2\"\n",
        "\n",
        "import tensorflow as tf\n",
        "from tensorflow import keras\n",
        "from tensorflow.keras import layers\n",
        "import tensorflow_datasets as tfds"
      ]
    },
    {
      "cell_type": "code",
      "source": [
        "physical_devices = tf.config.list_physical_devices(\"GPU\")\n",
        "tf.config.experimental.set_memory_growth(physical_devices[0], True)"
      ],
      "metadata": {
        "id": "GronfjbmbHlP"
      },
      "execution_count": 2,
      "outputs": []
    },
    {
      "cell_type": "code",
      "source": [
        "(ds_train,ds_test),ds_info =tfds.load(\n",
        "    \"mnist\",\n",
        "    split =[\"train\", \"test\"],\n",
        "    shuffle_files = True,\n",
        "    as_supervised = True,\n",
        "    with_info = True,\n",
        "\n",
        ")"
      ],
      "metadata": {
        "colab": {
          "base_uri": "https://localhost:8080/",
          "height": 105,
          "referenced_widgets": [
            "c64bf24f18c34186bc8397cb14b2b910",
            "181a5a9eb1a04bc79dbd3dcddbf294b7",
            "39ce04783d2449a3a51567ab713c24ce",
            "3a6a71f617a94888a34a92127b610609",
            "093f39de73764abba4c74c61cc7ca5b5",
            "a2071212c1d44fad8bb5ea10ca4b9470",
            "60ae3de377fe4079ae02976e0596bf61",
            "2675ed1d5a4b4423ab29a4a36b065859",
            "787d8a089f2d43fbb373772b7d79aeb8",
            "3598b7ca37df42e385d8accf6dd3757b",
            "591cb7234bc1463f910e53b9e318fbc2"
          ]
        },
        "id": "8AJH0ofFbIgf",
        "outputId": "72060e0f-a1d5-4c0c-9946-4a3ee6ca943a"
      },
      "execution_count": 3,
      "outputs": [
        {
          "output_type": "stream",
          "name": "stdout",
          "text": [
            "Downloading and preparing dataset 11.06 MiB (download: 11.06 MiB, generated: 21.00 MiB, total: 32.06 MiB) to /root/tensorflow_datasets/mnist/3.0.1...\n"
          ]
        },
        {
          "output_type": "display_data",
          "data": {
            "text/plain": [
              "Dl Completed...:   0%|          | 0/5 [00:00<?, ? file/s]"
            ],
            "application/vnd.jupyter.widget-view+json": {
              "version_major": 2,
              "version_minor": 0,
              "model_id": "c64bf24f18c34186bc8397cb14b2b910"
            }
          },
          "metadata": {}
        },
        {
          "output_type": "stream",
          "name": "stdout",
          "text": [
            "Dataset mnist downloaded and prepared to /root/tensorflow_datasets/mnist/3.0.1. Subsequent calls will reuse this data.\n"
          ]
        }
      ]
    },
    {
      "cell_type": "code",
      "source": [
        "\"\"\"Normalizes images\"\"\"\n",
        "\n",
        "def normalized_img (iamge,label):\n",
        "  return tf.cast(iamge,tf.float32) /255.0 , label"
      ],
      "metadata": {
        "id": "eOI0DHd8ddxh"
      },
      "execution_count": 4,
      "outputs": []
    },
    {
      "cell_type": "code",
      "source": [
        "AUTOTUNE = tf.data.experimental.AUTOTUNE\n",
        "BATCH_SIZE = 128"
      ],
      "metadata": {
        "id": "lwGPFdohkVlt"
      },
      "execution_count": 5,
      "outputs": []
    },
    {
      "cell_type": "code",
      "source": [
        "# Setup for train dataset\n",
        "ds_train = ds_train.map(normalized_img, num_parallel_calls=AUTOTUNE)\n",
        "ds_train = ds_train.cache()\n",
        "ds_train = ds_train.shuffle(ds_info.splits[\"train\"].num_examples)\n",
        "ds_train = ds_train.batch(BATCH_SIZE)\n",
        "ds_train = ds_train.prefetch(AUTOTUNE)"
      ],
      "metadata": {
        "id": "eTJHfb00kg2m"
      },
      "execution_count": 6,
      "outputs": []
    },
    {
      "cell_type": "code",
      "source": [
        "model = keras.Sequential(\n",
        "    [\n",
        "        keras.Input((28, 28, 1)),\n",
        "        layers.Conv2D(32, 3, activation=\"relu\"),\n",
        "        layers.Flatten(),\n",
        "        tf.keras.layers.Dense(10, activation=\"softmax\"),\n",
        "    ]\n",
        ")"
      ],
      "metadata": {
        "id": "j5wi5RpolGrY"
      },
      "execution_count": 7,
      "outputs": []
    },
    {
      "cell_type": "code",
      "source": [
        "save_callback = keras.callbacks.ModelCheckpoint(\n",
        "  '/content' ,\n",
        "  save_weights_only = True,\n",
        "  monitor= \"train_acc\",\n",
        "  save_best_only = False,\n",
        ")"
      ],
      "metadata": {
        "id": "uUHFnDXUmSmK"
      },
      "execution_count": 13,
      "outputs": []
    },
    {
      "cell_type": "code",
      "source": [
        "lr_scheduler = keras.callbacks.ReduceLROnPlateau(\n",
        "    monitor=\"loss\", factor=0.1, patience=3, mode=\"max\", verbose=1\n",
        ")"
      ],
      "metadata": {
        "id": "4qth9-Rhq1M_"
      },
      "execution_count": 9,
      "outputs": []
    },
    {
      "cell_type": "code",
      "source": [
        "class OurOwnCallback(keras.callbacks.Callback):\n",
        "    def on_epoch_end(self, epoch, logs=None):\n",
        "        if logs.get(\"accuracy\") > 1:\n",
        "            print(\"Accuracy over 70%, quitting training\")\n",
        "            self.model.stop_training = True"
      ],
      "metadata": {
        "id": "ALTAnz0--VxN"
      },
      "execution_count": 10,
      "outputs": []
    },
    {
      "cell_type": "code",
      "source": [
        "model.compile(\n",
        "    loss = keras.losses.SparseCategoricalCrossentropy(),\n",
        "    optimizer = keras.optimizers.Adam(0.01),\n",
        "    metrics = ['accuracy']\n",
        "\n",
        ")"
      ],
      "metadata": {
        "id": "rbaTrPSFngQ4"
      },
      "execution_count": 11,
      "outputs": []
    },
    {
      "cell_type": "code",
      "source": [
        "model.fit(\n",
        "    ds_train,\n",
        "    epochs=10,\n",
        "    callbacks=[save_callback, lr_scheduler, OurOwnCallback()],\n",
        "    verbose=2,\n",
        ")"
      ],
      "metadata": {
        "colab": {
          "base_uri": "https://localhost:8080/"
        },
        "id": "8BbMuPWJpJm-",
        "outputId": "b0500fd2-cd41-4f38-f50d-61cf7b9070da"
      },
      "execution_count": 14,
      "outputs": [
        {
          "output_type": "stream",
          "name": "stdout",
          "text": [
            "Epoch 1/10\n",
            "469/469 - 8s - loss: 0.1471 - accuracy: 0.9552 - lr: 0.0100 - 8s/epoch - 17ms/step\n",
            "Epoch 2/10\n",
            "469/469 - 1s - loss: 0.0573 - accuracy: 0.9819 - lr: 0.0100 - 1s/epoch - 3ms/step\n",
            "Epoch 3/10\n",
            "469/469 - 2s - loss: 0.0382 - accuracy: 0.9875 - lr: 0.0100 - 2s/epoch - 3ms/step\n",
            "Epoch 4/10\n",
            "\n",
            "Epoch 4: ReduceLROnPlateau reducing learning rate to 0.0009999999776482583.\n",
            "469/469 - 1s - loss: 0.0266 - accuracy: 0.9913 - lr: 0.0100 - 1s/epoch - 3ms/step\n",
            "Epoch 5/10\n",
            "469/469 - 1s - loss: 0.0092 - accuracy: 0.9973 - lr: 1.0000e-03 - 1s/epoch - 3ms/step\n",
            "Epoch 6/10\n",
            "469/469 - 1s - loss: 0.0046 - accuracy: 0.9990 - lr: 1.0000e-03 - 1s/epoch - 3ms/step\n",
            "Epoch 7/10\n",
            "\n",
            "Epoch 7: ReduceLROnPlateau reducing learning rate to 9.999999310821295e-05.\n",
            "469/469 - 1s - loss: 0.0029 - accuracy: 0.9996 - lr: 1.0000e-03 - 1s/epoch - 3ms/step\n",
            "Epoch 8/10\n",
            "469/469 - 1s - loss: 0.0020 - accuracy: 0.9998 - lr: 1.0000e-04 - 1s/epoch - 3ms/step\n",
            "Epoch 9/10\n",
            "469/469 - 1s - loss: 0.0019 - accuracy: 0.9998 - lr: 1.0000e-04 - 1s/epoch - 3ms/step\n",
            "Epoch 10/10\n",
            "\n",
            "Epoch 10: ReduceLROnPlateau reducing learning rate to 9.999999019782991e-06.\n",
            "469/469 - 1s - loss: 0.0018 - accuracy: 0.9998 - lr: 1.0000e-04 - 1s/epoch - 3ms/step\n"
          ]
        },
        {
          "output_type": "execute_result",
          "data": {
            "text/plain": [
              "<keras.src.callbacks.History at 0x79d5ee176e00>"
            ]
          },
          "metadata": {},
          "execution_count": 14
        }
      ]
    }
  ]
}