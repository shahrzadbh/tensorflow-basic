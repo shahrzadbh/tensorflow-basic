{
  "nbformat": 4,
  "nbformat_minor": 0,
  "metadata": {
    "colab": {
      "provenance": []
    },
    "kernelspec": {
      "name": "python3",
      "display_name": "Python 3"
    },
    "language_info": {
      "name": "python"
    }
  },
  "cells": [
    {
      "cell_type": "code",
      "execution_count": 1,
      "metadata": {
        "id": "Mu2Zdx13LO1C"
      },
      "outputs": [],
      "source": [
        "import os\n",
        "\n",
        "os.environ[\"TF_CPP_MIN_LOG_LEVEL\"] = \"2\"\n",
        "\n",
        "import tensorflow as tf"
      ]
    },
    {
      "cell_type": "code",
      "source": [
        "# Initialization\n",
        "x = tf.constant(4, shape=(1, 1), dtype=tf.float32)\n",
        "print(x)\n",
        "print(\"-\" * 40)\n",
        "\n",
        "x = tf.constant([[1, 2, 3], [4, 5, 6]], shape=(2, 3))\n",
        "print(x)\n",
        "print(\"-\" * 40)\n",
        "\n",
        "x = tf.eye(3)\n",
        "print(x)\n",
        "print(\"-\" * 40)\n",
        "\n",
        "x = tf.ones((4, 3))\n",
        "print(x)\n",
        "print(\"-\" * 40)\n",
        "\n",
        "x = tf.zeros((3, 2, 5))\n",
        "print(x)\n",
        "print(\"-\" * 40)\n",
        "\n",
        "x = tf.random.uniform((2, 2), minval=0, maxval=1)\n",
        "print(x)\n",
        "print(\"-\" * 40)\n",
        "\n",
        "x = tf.random.normal((3, 3), mean=0, stddev=1)\n",
        "print(tf.cast(x, dtype=tf.float64))\n",
        "print(\"-\" * 40)\n",
        "\n",
        "x = tf.range(9)\n",
        "x = tf.range(start=0, limit=10, delta=2)\n",
        "print(x)"
      ],
      "metadata": {
        "colab": {
          "base_uri": "https://localhost:8080/"
        },
        "id": "TAODTAcLUwBC",
        "outputId": "f8adf16a-784a-4483-b028-d5bb36a088b4"
      },
      "execution_count": 8,
      "outputs": [
        {
          "output_type": "stream",
          "name": "stdout",
          "text": [
            "tf.Tensor([[4.]], shape=(1, 1), dtype=float32)\n",
            "----------------------------------------\n",
            "tf.Tensor(\n",
            "[[1 2 3]\n",
            " [4 5 6]], shape=(2, 3), dtype=int32)\n",
            "----------------------------------------\n",
            "tf.Tensor(\n",
            "[[1. 0. 0.]\n",
            " [0. 1. 0.]\n",
            " [0. 0. 1.]], shape=(3, 3), dtype=float32)\n",
            "----------------------------------------\n",
            "tf.Tensor(\n",
            "[[1. 1. 1.]\n",
            " [1. 1. 1.]\n",
            " [1. 1. 1.]\n",
            " [1. 1. 1.]], shape=(4, 3), dtype=float32)\n",
            "----------------------------------------\n",
            "tf.Tensor(\n",
            "[[[0. 0. 0. 0. 0.]\n",
            "  [0. 0. 0. 0. 0.]]\n",
            "\n",
            " [[0. 0. 0. 0. 0.]\n",
            "  [0. 0. 0. 0. 0.]]\n",
            "\n",
            " [[0. 0. 0. 0. 0.]\n",
            "  [0. 0. 0. 0. 0.]]], shape=(3, 2, 5), dtype=float32)\n",
            "----------------------------------------\n",
            "tf.Tensor(\n",
            "[[0.6322787  0.21554649]\n",
            " [0.8833896  0.48080432]], shape=(2, 2), dtype=float32)\n",
            "----------------------------------------\n",
            "tf.Tensor(\n",
            "[[-0.1896065  -0.8515501  -1.51678658]\n",
            " [-1.33181381  0.64437473 -0.1004085 ]\n",
            " [-1.1116997   0.27874491  0.66144496]], shape=(3, 3), dtype=float64)\n",
            "----------------------------------------\n",
            "tf.Tensor([0 2 4 6 8], shape=(5,), dtype=int32)\n"
          ]
        }
      ]
    },
    {
      "cell_type": "code",
      "source": [
        "# Math\n",
        "x = tf.constant([1, 2, 3])\n",
        "y = tf.constant([9, 8, 7])\n",
        "\n",
        "z = tf.add(x, y)\n",
        "z = x + y\n",
        "print(z)\n",
        "print(\"-\" * 40)\n",
        "\n",
        "z = tf.subtract(x, y)\n",
        "z = x - y\n",
        "print(z)\n",
        "print(\"-\" * 40)\n",
        "\n",
        "z = tf.divide(x, y)\n",
        "z = x / y\n",
        "print(z)\n",
        "print(\"-\" * 40)\n",
        "\n",
        "z = tf.multiply(x, y)\n",
        "z = x * y\n",
        "print(z)\n",
        "print(\"-\" * 40)\n",
        "\n",
        "z = tf.tensordot(x, y, axes=1)\n",
        "print(z)\n",
        "print(\"-\" * 40)\n",
        "\n",
        "z = x ** 5\n",
        "print(z)\n",
        "print(\"-\" * 40)\n",
        "\n",
        "x = tf.random.normal((2, 3))\n",
        "y = tf.random.normal((3, 2))\n",
        "z = tf.matmul(x, y)\n",
        "z = x @ y\n",
        "print(z)\n",
        "print(\"-\" * 40)\n",
        "\n",
        "x = tf.random.normal((2, 2))\n",
        "print(x)\n"
      ],
      "metadata": {
        "colab": {
          "base_uri": "https://localhost:8080/"
        },
        "id": "TDKAW1xeU7Hw",
        "outputId": "e7f4599c-e951-42ac-9c95-8021644f8252"
      },
      "execution_count": 11,
      "outputs": [
        {
          "output_type": "stream",
          "name": "stdout",
          "text": [
            "tf.Tensor([10 10 10], shape=(3,), dtype=int32)\n",
            "----------------------------------------\n",
            "tf.Tensor([-8 -6 -4], shape=(3,), dtype=int32)\n",
            "----------------------------------------\n",
            "tf.Tensor([0.11111111 0.25       0.42857143], shape=(3,), dtype=float64)\n",
            "----------------------------------------\n",
            "tf.Tensor([ 9 16 21], shape=(3,), dtype=int32)\n",
            "----------------------------------------\n",
            "tf.Tensor(46, shape=(), dtype=int32)\n",
            "----------------------------------------\n",
            "tf.Tensor([  1  32 243], shape=(3,), dtype=int32)\n",
            "----------------------------------------\n",
            "tf.Tensor(\n",
            "[[ 0.5376215   0.37879756]\n",
            " [-0.24871321 -0.05239388]], shape=(2, 2), dtype=float32)\n",
            "----------------------------------------\n",
            "tf.Tensor(\n",
            "[[-1.0985132   0.5766267 ]\n",
            " [ 0.7764178   0.50367206]], shape=(2, 2), dtype=float32)\n"
          ]
        }
      ]
    },
    {
      "cell_type": "code",
      "source": [
        "# Indexing\n",
        "x = tf.constant([0, 1, 1, 2, 3, 1, 2, 3])\n",
        "print(x[:])\n",
        "print(\"-\" * 40)\n",
        "print(x[1:])\n",
        "print(\"-\" * 40)\n",
        "print(x[1:3])\n",
        "print(\"-\" * 40)\n",
        "# The :: is used for slicing, and the number 2 indicates the step size.\n",
        "print(x[::2])\n",
        "print(\"-\" * 40)\n",
        "# The :: is used for slicing, and the -1 as the step size indicates that the slice should be taken in reverse order.\n",
        "print(x[::-1])\n",
        "print(\"-\" * 40)\n",
        "\n",
        "indices = tf.constant([0, 3])\n",
        "x_indices = tf.gather(x, indices)\n",
        "print(x_indices)\n",
        "print(\"-\" * 40)\n",
        "\n",
        "x = tf.constant([[1, 2], [3, 4], [5, 6]])\n",
        "\n",
        "print(x[0, :])\n",
        "print(\"-\" * 40)\n",
        "\n",
        "print(x[0:2, :])\n"
      ],
      "metadata": {
        "colab": {
          "base_uri": "https://localhost:8080/"
        },
        "id": "Wjmklo6aU_je",
        "outputId": "8d929d60-95ca-454d-f09d-cacb20de17ac"
      },
      "execution_count": 13,
      "outputs": [
        {
          "output_type": "stream",
          "name": "stdout",
          "text": [
            "tf.Tensor([0 1 1 2 3 1 2 3], shape=(8,), dtype=int32)\n",
            "----------------------------------------\n",
            "tf.Tensor([1 1 2 3 1 2 3], shape=(7,), dtype=int32)\n",
            "----------------------------------------\n",
            "tf.Tensor([1 1], shape=(2,), dtype=int32)\n",
            "----------------------------------------\n",
            "tf.Tensor([0 1 3 2], shape=(4,), dtype=int32)\n",
            "----------------------------------------\n",
            "tf.Tensor([3 2 1 3 2 1 1 0], shape=(8,), dtype=int32)\n",
            "----------------------------------------\n",
            "tf.Tensor([0 2], shape=(2,), dtype=int32)\n",
            "----------------------------------------\n",
            "tf.Tensor([1 2], shape=(2,), dtype=int32)\n",
            "----------------------------------------\n",
            "tf.Tensor(\n",
            "[[1 2]\n",
            " [3 4]], shape=(2, 2), dtype=int32)\n"
          ]
        }
      ]
    },
    {
      "cell_type": "code",
      "source": [
        "# Reshaping\n",
        "x = tf.range(9)\n",
        "print(x)\n",
        "print(\"-\" * 40)\n",
        "\n",
        "x = tf.reshape(x, (3, 3))\n",
        "print(x)\n",
        "print(\"-\" * 40)\n",
        "\n",
        "x = tf.transpose(x, perm=[1, 0])\n",
        "print(x)\n",
        "print(\"-\" * 40)"
      ],
      "metadata": {
        "colab": {
          "base_uri": "https://localhost:8080/"
        },
        "id": "cxsTmrdtUr0W",
        "outputId": "533c785c-2aaa-44ce-fa4e-35c0f6ce7c67"
      },
      "execution_count": 15,
      "outputs": [
        {
          "output_type": "stream",
          "name": "stdout",
          "text": [
            "tf.Tensor([0 1 2 3 4 5 6 7 8], shape=(9,), dtype=int32)\n",
            "----------------------------------------\n",
            "tf.Tensor(\n",
            "[[0 1 2]\n",
            " [3 4 5]\n",
            " [6 7 8]], shape=(3, 3), dtype=int32)\n",
            "----------------------------------------\n",
            "tf.Tensor(\n",
            "[[0 3 6]\n",
            " [1 4 7]\n",
            " [2 5 8]], shape=(3, 3), dtype=int32)\n",
            "----------------------------------------\n"
          ]
        }
      ]
    }
  ]
}