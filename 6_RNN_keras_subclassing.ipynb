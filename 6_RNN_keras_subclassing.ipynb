{
  "cells": [
    {
      "cell_type": "code",
      "execution_count": 6,
      "metadata": {
        "id": "Mu2Zdx13LO1C"
      },
      "outputs": [],
      "source": [
        "import os\n",
        "\n",
        "os.environ[\"TF_CPP_MIN_LOG_LEVEL\"] = \"2\"\n",
        "\n",
        "import tensorflow as tf\n",
        "from tensorflow import keras\n",
        "from tensorflow.keras import layers\n",
        "from tensorflow.keras.datasets import mnist\n",
        "# Use Pandas to load dataset from csv file\n",
        "import pandas as pd\n",
        "\n",
        "# Make sure we don't get any GPU errors\n",
        "physical_devices = tf.config.list_physical_devices(\"GPU\")\n",
        "tf.config.experimental.set_memory_growth(physical_devices[0], True)"
      ]
    },
    {
      "cell_type": "code",
      "source": [
        "(train_images, train_labels), (test_images, test_labels) = mnist.load_data()"
      ],
      "metadata": {
        "id": "byyjJXmW0KWj"
      },
      "execution_count": 7,
      "outputs": []
    },
    {
      "cell_type": "code",
      "execution_count": 8,
      "metadata": {
        "colab": {
          "base_uri": "https://localhost:8080/"
        },
        "id": "UsLSRNeijvm6",
        "outputId": "ed01bad6-e4dc-493b-8730-51f925aa05db"
      },
      "outputs": [
        {
          "output_type": "stream",
          "name": "stdout",
          "text": [
            "Train Images Shape: (60000, 28, 28)\n",
            "Test Images Shape: (10000, 28, 28)\n",
            "Train Labels Shape: (60000,)\n",
            "Test Labels Shape: (10000,)\n"
          ]
        }
      ],
      "source": [
        "# Check the shape of the training and test data\n",
        "print(\"Train Images Shape:\", train_images.shape)\n",
        "print(\"Test Images Shape:\", test_images.shape)\n",
        "print(\"Train Labels Shape:\", train_labels.shape)\n",
        "print(\"Test Labels Shape:\", test_labels.shape)"
      ]
    },
    {
      "cell_type": "code",
      "execution_count": 9,
      "metadata": {
        "id": "ionT1veFnTDQ"
      },
      "outputs": [],
      "source": [
        "train_images = train_images.reshape(-1,28,28,1).astype(\"float32\") / 255.0\n",
        "test_images = test_images.reshape(-1,28,28,1).astype(\"float32\") / 255.0"
      ]
    },
    {
      "cell_type": "code",
      "execution_count": 10,
      "metadata": {
        "colab": {
          "base_uri": "https://localhost:8080/"
        },
        "id": "XZWemYCGoc9S",
        "outputId": "8f2b155d-1e1d-4f34-d8dc-0e6e6dc763af"
      },
      "outputs": [
        {
          "output_type": "execute_result",
          "data": {
            "text/plain": [
              "(60000, 28, 28, 1)"
            ]
          },
          "metadata": {},
          "execution_count": 10
        }
      ],
      "source": [
        "train_images.shape"
      ]
    },
    {
      "cell_type": "code",
      "source": [
        "# CNN -> BatchNorm -> ReLU (common structure)\n",
        "# x10 (a lot of code to write!)\n",
        "\n",
        "class CNNBLOCK (layers.Layer):\n",
        "  def __init__(self, out_chanels, kernel_size = 3) :\n",
        "    super(CNNBLOCK, self).__init__()\n",
        "    self.conv = layers.Conv2D (out_chanels, kernel_size, padding = 'same')\n",
        "    self.bn = layers.BatchNormalization()\n",
        "\n",
        "  def call (self, input_tensor, training = False):\n",
        "    x = self.conv(input_tensor)\n",
        "    x = self.bn(x, training = training)\n",
        "    x = tf.nn.relu(x)\n",
        "    return x"
      ],
      "metadata": {
        "id": "1ENI10u91zQ8"
      },
      "execution_count": 21,
      "outputs": []
    },
    {
      "cell_type": "code",
      "execution_count": 22,
      "metadata": {
        "id": "Ded54zeMVjQd"
      },
      "outputs": [],
      "source": [
        "model = keras.Sequential(\n",
        "    [\n",
        "        CNNBLOCK(32),\n",
        "        CNNBLOCK(64),\n",
        "        CNNBLOCK(128),\n",
        "        layers.Flatten(),\n",
        "        layers.Dense(10),\n",
        "    ]\n",
        ")"
      ]
    },
    {
      "cell_type": "code",
      "execution_count": 23,
      "metadata": {
        "id": "950Lui3eq5II"
      },
      "outputs": [],
      "source": [
        "model.compile(\n",
        "    loss=keras.losses.SparseCategoricalCrossentropy(from_logits=True),\n",
        "    optimizer=keras.optimizers.Adam(),\n",
        "    metrics=[\"accuracy\"],\n",
        ")"
      ]
    },
    {
      "cell_type": "code",
      "execution_count": 24,
      "metadata": {
        "colab": {
          "base_uri": "https://localhost:8080/"
        },
        "id": "rUjmcaAysnJY",
        "outputId": "28e953d2-38c0-44bc-87bf-461b5030f587"
      },
      "outputs": [
        {
          "output_type": "stream",
          "name": "stdout",
          "text": [
            "Epoch 1/5\n",
            "938/938 - 17s - loss: 0.5716 - accuracy: 0.9466 - 17s/epoch - 18ms/step\n",
            "Epoch 2/5\n",
            "938/938 - 11s - loss: 0.0934 - accuracy: 0.9812 - 11s/epoch - 11ms/step\n",
            "Epoch 3/5\n",
            "938/938 - 11s - loss: 0.0338 - accuracy: 0.9902 - 11s/epoch - 11ms/step\n",
            "Epoch 4/5\n",
            "938/938 - 11s - loss: 0.0266 - accuracy: 0.9918 - 11s/epoch - 11ms/step\n",
            "Epoch 5/5\n",
            "938/938 - 11s - loss: 0.0274 - accuracy: 0.9912 - 11s/epoch - 11ms/step\n"
          ]
        },
        {
          "output_type": "execute_result",
          "data": {
            "text/plain": [
              "<keras.src.callbacks.History at 0x7c59dc2a6b30>"
            ]
          },
          "metadata": {},
          "execution_count": 24
        }
      ],
      "source": [
        "model.fit (train_images, train_labels, batch_size=64, epochs=5, verbose =2 )"
      ]
    },
    {
      "cell_type": "code",
      "execution_count": 25,
      "metadata": {
        "colab": {
          "base_uri": "https://localhost:8080/"
        },
        "id": "R38E66H4vg8M",
        "outputId": "9391e6e9-e384-456f-db1c-fc0cf5ff8b2a"
      },
      "outputs": [
        {
          "output_type": "stream",
          "name": "stdout",
          "text": [
            "157/157 - 1s - loss: 0.0534 - accuracy: 0.9837 - 1s/epoch - 7ms/step\n"
          ]
        },
        {
          "output_type": "execute_result",
          "data": {
            "text/plain": [
              "[0.05342560261487961, 0.9836999773979187]"
            ]
          },
          "metadata": {},
          "execution_count": 25
        }
      ],
      "source": [
        "model.evaluate(test_images, test_labels, batch_size=64, verbose =2 )"
      ]
    }
  ],
  "metadata": {
    "accelerator": "GPU",
    "colab": {
      "provenance": [],
      "gpuType": "T4"
    },
    "kernelspec": {
      "display_name": "Python 3",
      "name": "python3"
    },
    "language_info": {
      "name": "python"
    }
  },
  "nbformat": 4,
  "nbformat_minor": 0
}