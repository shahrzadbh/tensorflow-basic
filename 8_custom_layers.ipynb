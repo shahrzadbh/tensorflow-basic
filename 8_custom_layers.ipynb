{
  "cells": [
    {
      "cell_type": "code",
      "execution_count": 41,
      "metadata": {
        "id": "Mu2Zdx13LO1C"
      },
      "outputs": [],
      "source": [
        "import os\n",
        "\n",
        "os.environ[\"TF_CPP_MIN_LOG_LEVEL\"] = \"2\"\n",
        "\n",
        "import tensorflow as tf\n",
        "from tensorflow import keras\n",
        "from tensorflow.keras import layers\n",
        "from tensorflow.keras.datasets import mnist\n",
        "# Use Pandas to load dataset from csv file\n",
        "import pandas as pd\n",
        "\n",
        "# Make sure we don't get any GPU errors\n",
        "physical_devices = tf.config.list_physical_devices(\"GPU\")\n",
        "tf.config.experimental.set_memory_growth(physical_devices[0], True)"
      ]
    },
    {
      "cell_type": "code",
      "source": [
        "(train_images, train_labels), (test_images, test_labels) = mnist.load_data()"
      ],
      "metadata": {
        "id": "byyjJXmW0KWj"
      },
      "execution_count": 42,
      "outputs": []
    },
    {
      "cell_type": "code",
      "execution_count": 43,
      "metadata": {
        "colab": {
          "base_uri": "https://localhost:8080/"
        },
        "id": "UsLSRNeijvm6",
        "outputId": "a6014d0d-4a13-41a6-c8a3-5a3b92561623"
      },
      "outputs": [
        {
          "output_type": "stream",
          "name": "stdout",
          "text": [
            "Train Images Shape: (60000, 28, 28)\n",
            "Test Images Shape: (10000, 28, 28)\n",
            "Train Labels Shape: (60000,)\n",
            "Test Labels Shape: (10000,)\n"
          ]
        }
      ],
      "source": [
        "# Check the shape of the training and test data\n",
        "print(\"Train Images Shape:\", train_images.shape)\n",
        "print(\"Test Images Shape:\", test_images.shape)\n",
        "print(\"Train Labels Shape:\", train_labels.shape)\n",
        "print(\"Test Labels Shape:\", test_labels.shape)"
      ]
    },
    {
      "cell_type": "code",
      "execution_count": 44,
      "metadata": {
        "id": "ionT1veFnTDQ"
      },
      "outputs": [],
      "source": [
        "train_images = train_images.reshape(-1,28*28).astype(\"float32\") / 255.0\n",
        "test_images = test_images.reshape(-1,28*28).astype(\"float32\") / 255.0"
      ]
    },
    {
      "cell_type": "code",
      "execution_count": 45,
      "metadata": {
        "colab": {
          "base_uri": "https://localhost:8080/"
        },
        "id": "XZWemYCGoc9S",
        "outputId": "e1e97faf-7722-4eac-ed3f-668f416215d7"
      },
      "outputs": [
        {
          "output_type": "execute_result",
          "data": {
            "text/plain": [
              "(60000, 784)"
            ]
          },
          "metadata": {},
          "execution_count": 45
        }
      ],
      "source": [
        "train_images.shape"
      ]
    },
    {
      "cell_type": "code",
      "source": [
        "class Dense(layers.Layer):\n",
        "    def __init__(self, units):\n",
        "        super(Dense, self).__init__()\n",
        "        self.units = units\n",
        "\n",
        "    def build(self, input_shape):\n",
        "        self.w = self.add_weight(\n",
        "            name=\"w\",\n",
        "            shape=(input_shape[-1], self.units),\n",
        "            initializer=\"random_normal\",\n",
        "            trainable=True,\n",
        "        )\n",
        "        self.b = self.add_weight(\n",
        "            name=\"b\", shape=(self.units,), initializer=\"random_normal\", trainable=True,\n",
        "        )\n",
        "\n",
        "    def call(self, inputs):\n",
        "        return tf.matmul(inputs, self.w) + self.b"
      ],
      "metadata": {
        "id": "JQx4hoI_u-8r"
      },
      "execution_count": 46,
      "outputs": []
    },
    {
      "cell_type": "code",
      "source": [
        "class MyReLU(layers.Layer):\n",
        "    def __init__(self):\n",
        "        super(MyReLU, self).__init__()\n",
        "\n",
        "    def call(self, x):\n",
        "        return tf.math.maximum(x, 0)"
      ],
      "metadata": {
        "id": "mzWJKD1LzkE4"
      },
      "execution_count": 47,
      "outputs": []
    },
    {
      "cell_type": "code",
      "source": [
        "class MyModel(keras.Model):\n",
        "    def __init__(self, num_classes=10):\n",
        "        super(MyModel, self).__init__()\n",
        "        self.dense1 = Dense(64)\n",
        "        self.dense2 = Dense(num_classes)\n",
        "        self.relu = MyReLU()\n",
        "\n",
        "\n",
        "    def call(self, x):\n",
        "        x = self.relu(self.dense1(x))\n",
        "        return self.dense2(x)"
      ],
      "metadata": {
        "id": "lnmTMEmlocEA"
      },
      "execution_count": 48,
      "outputs": []
    },
    {
      "cell_type": "code",
      "execution_count": 49,
      "metadata": {
        "id": "950Lui3eq5II"
      },
      "outputs": [],
      "source": [
        "model = MyModel()\n",
        "model.compile(\n",
        "    loss=keras.losses.SparseCategoricalCrossentropy(from_logits=True),\n",
        "    optimizer=keras.optimizers.Adam(),\n",
        "    metrics=[\"accuracy\"],\n",
        ")"
      ]
    },
    {
      "cell_type": "code",
      "execution_count": 50,
      "metadata": {
        "colab": {
          "base_uri": "https://localhost:8080/"
        },
        "id": "rUjmcaAysnJY",
        "outputId": "2192ceb5-ad89-41e5-80ef-9c890d0ee117"
      },
      "outputs": [
        {
          "output_type": "stream",
          "name": "stdout",
          "text": [
            "Epoch 1/5\n",
            "1875/1875 - 6s - loss: 0.3537 - accuracy: 0.9026 - 6s/epoch - 3ms/step\n",
            "Epoch 2/5\n",
            "1875/1875 - 3s - loss: 0.1689 - accuracy: 0.9516 - 3s/epoch - 2ms/step\n",
            "Epoch 3/5\n",
            "1875/1875 - 4s - loss: 0.1191 - accuracy: 0.9648 - 4s/epoch - 2ms/step\n",
            "Epoch 4/5\n",
            "1875/1875 - 3s - loss: 0.0935 - accuracy: 0.9722 - 3s/epoch - 2ms/step\n",
            "Epoch 5/5\n",
            "1875/1875 - 3s - loss: 0.0768 - accuracy: 0.9772 - 3s/epoch - 2ms/step\n"
          ]
        },
        {
          "output_type": "execute_result",
          "data": {
            "text/plain": [
              "<keras.src.callbacks.History at 0x7aff16383f40>"
            ]
          },
          "metadata": {},
          "execution_count": 50
        }
      ],
      "source": [
        "model.fit(train_images, train_labels, batch_size=32, epochs=5, verbose =2 )"
      ]
    },
    {
      "cell_type": "code",
      "execution_count": 51,
      "metadata": {
        "id": "R38E66H4vg8M",
        "colab": {
          "base_uri": "https://localhost:8080/"
        },
        "outputId": "e229d902-12fc-4555-da1e-1edf78faba1f"
      },
      "outputs": [
        {
          "output_type": "stream",
          "name": "stdout",
          "text": [
            "313/313 - 1s - loss: 0.1010 - accuracy: 0.9671 - 589ms/epoch - 2ms/step\n"
          ]
        },
        {
          "output_type": "execute_result",
          "data": {
            "text/plain": [
              "[0.10099352896213531, 0.9671000242233276]"
            ]
          },
          "metadata": {},
          "execution_count": 51
        }
      ],
      "source": [
        "model.evaluate(test_images, test_labels, batch_size=32, verbose =2 )"
      ]
    }
  ],
  "metadata": {
    "accelerator": "GPU",
    "colab": {
      "provenance": [],
      "gpuType": "T4"
    },
    "kernelspec": {
      "display_name": "Python 3",
      "name": "python3"
    },
    "language_info": {
      "name": "python"
    }
  },
  "nbformat": 4,
  "nbformat_minor": 0
}